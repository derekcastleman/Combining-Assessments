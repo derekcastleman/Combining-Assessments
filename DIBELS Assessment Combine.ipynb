{
 "cells": [
  {
   "cell_type": "markdown",
   "id": "9e6643b5",
   "metadata": {},
   "source": [
    "# DIBELS Assessment Combine\n",
    "\n",
    "The purpose of this Jupyter notebook is to combine the data from multiple DIBELS assessments on the Student ID. This should allow for easier analysis of any of the data from the DIBELS assessments across up to three tests. A calculation is made on change in percentile and change in score for each student across the tests for easier analysis of this as well."
   ]
  },
  {
   "cell_type": "code",
   "execution_count": null,
   "id": "935c643a",
   "metadata": {},
   "outputs": [],
   "source": [
    "import numpy as np\n",
    "import pandas as pd"
   ]
  },
  {
   "cell_type": "markdown",
   "id": "221306a9",
   "metadata": {},
   "source": [
    "## Data Input\n",
    "\n",
    "The number of DIBELS assessments (up to three) are asked for and then the pathway to each file is asked to be input (with no quotation marks around them). Then each file will receive its own name by being asked to input a time of year (BOY, MOY, EOY - case sensitive). Each file will be asked to be given a 2 digit year."
   ]
  },
  {
   "cell_type": "code",
   "execution_count": null,
   "id": "24d044c2",
   "metadata": {},
   "outputs": [],
   "source": [
    "dibels = input('Number of DIBELS Assessments = ') #Input of number of assessments\n",
    "dibels = int(dibels) # Converting the input into an integer"
   ]
  },
  {
   "cell_type": "code",
   "execution_count": null,
   "id": "01295bb4",
   "metadata": {},
   "outputs": [],
   "source": [
    "# Based on number of assessments there is an input for each pathway but there can be no quotations around it.\n",
    "if dibels == 2:\n",
    "    dibels_one = input('Pathway of DIBELS One (get rid of quotations):   ')\n",
    "    dibels_one = pd.read_csv(dibels_one)\n",
    "    dibels_two = input('Pathway of DIBELS Two (get rid of quotations):   ')\n",
    "    dibels_two = pd.read_csv(dibels_two)\n",
    "elif dibels == 3:\n",
    "    dibels_one = input('Pathway of DIBELS One (get rid of quotations):   ')\n",
    "    dibels_one = pd.read_csv(dibels_one)\n",
    "    dibels_two = input('Pathway of DIBELS Two (get rid of quotations):   ')\n",
    "    dibels_two = pd.read_csv(dibels_two)\n",
    "    dibels_three = input('Pathway of DIBELS Three (get rid of quotations):   ')\n",
    "    dibels_three = pd.read_csv(dibels_three)    "
   ]
  },
  {
   "cell_type": "code",
   "execution_count": null,
   "id": "6be30515",
   "metadata": {},
   "outputs": [],
   "source": [
    "dibels_one"
   ]
  },
  {
   "cell_type": "code",
   "execution_count": null,
   "id": "a0c32b4b",
   "metadata": {},
   "outputs": [],
   "source": [
    "# Each file is named by a time of year and a two digit year\n",
    "if dibels == 2:\n",
    "    a = input('What test is test one (BOY, MOY, EOY - case sensitive)?:   ')\n",
    "    b = input('What year is test one (23, 24, 25)?:   ')\n",
    "    c = input('What test is test two (BOY, MOY, EOY - case sensitive)?:   ')\n",
    "    d = input('What year is test two (23, 24, 25)?:   ')    \n",
    "elif dibels == 3:\n",
    "    a = input('What test is test one (BOY, MOY, EOY - case sensitive)?:   ')\n",
    "    b = input('What year is test one (23, 24, 25)?:   ')\n",
    "    c = input('What test is test two (BOY, MOY, EOY - case sensitive)?:   ')\n",
    "    d = input('What year is test two (23, 24, 25)?:   ')        \n",
    "    e = input('What test is test three (BOY, MOY, EOY - case sensitive)?:   ')\n",
    "    f = input('What year is test three (23, 24, 25)?:   ')      "
   ]
  },
  {
   "cell_type": "markdown",
   "id": "f28b3827",
   "metadata": {},
   "source": [
    "## Column Selection\n",
    "\n",
    "The columns of interest will be selected based on what time of year was input from the previous part. The columns will then be rename based on the time of year, year and a shortened version of the column name"
   ]
  },
  {
   "cell_type": "code",
   "execution_count": null,
   "id": "c00b9850",
   "metadata": {},
   "outputs": [],
   "source": [
    "# The columns of interest are selected based on the time of year that was input previously\n",
    "if dibels == 2:\n",
    "    if a == 'BOY':\n",
    "        dibels_one = dibels_one[['Student Primary ID', 'Official Teacher Name','Composite Score',\n",
    "                            'Composite - National Norm Percentile', 'Composite Level']]\n",
    "    elif a == 'MOY':\n",
    "            dibels_one = dibels_one[['Student Primary ID', 'Official Teacher Name','Composite Score',\n",
    "                            'Composite - National Norm Percentile', 'Composite Level', 'Composite - Semester Growth']]\n",
    "    else:\n",
    "            dibels_one = dibels_one[['Student Primary ID', 'Official Teacher Name','Composite Score',\n",
    "                            'Composite - National Norm Percentile', 'Composite Level', 'Composite - Semester Growth', \n",
    "                                    'Composite - Year Growth']]\n",
    "    if c == 'BOY':\n",
    "        dibels_two = dibels_two[['Student Primary ID', 'Official Teacher Name','Composite Score',\n",
    "                            'Composite - National Norm Percentile', 'Composite Level']]\n",
    "    elif c == 'MOY':\n",
    "            dibels_two = dibels_two[['Student Primary ID', 'Official Teacher Name','Composite Score',\n",
    "                            'Composite - National Norm Percentile', 'Composite Level', 'Composite - Semester Growth']]\n",
    "    else:\n",
    "            dibels_two = dibels_two[['Student Primary ID', 'Official Teacher Name','Composite Score',\n",
    "                            'Composite - National Norm Percentile', 'Composite Level', 'Composite - Semester Growth', \n",
    "                                    'Composite - Year Growth']]\n",
    "if dibels == 3:\n",
    "    if a == 'BOY':\n",
    "        dibels_one = dibels_one[['Student Primary ID', 'Official Teacher Name','Composite Score',\n",
    "                            'Composite - National Norm Percentile', 'Composite Level']]\n",
    "    elif a == 'MOY':\n",
    "            dibels_one = dibels_one[['Student Primary ID', 'Official Teacher Name','Composite Score',\n",
    "                            'Composite - National Norm Percentile', 'Composite Level', 'Composite - Semester Growth']]\n",
    "    else:\n",
    "            dibels_one = dibels_one[['Student Primary ID', 'Official Teacher Name','Composite Score',\n",
    "                            'Composite - National Norm Percentile', 'Composite Level', 'Composite - Semester Growth', \n",
    "                                    'Composite - Year Growth']]\n",
    "    if c == 'BOY':\n",
    "        dibels_two = dibels_two[['Student Primary ID', 'Official Teacher Name','Composite Score',\n",
    "                            'Composite - National Norm Percentile', 'Composite Level']]\n",
    "    elif c == 'MOY':\n",
    "            dibels_two = dibels_two[['Student Primary ID', 'Official Teacher Name','Composite Score',\n",
    "                            'Composite - National Norm Percentile', 'Composite Level', 'Composite - Semester Growth']]\n",
    "    else:\n",
    "            dibels_two = dibels_two[['Student Primary ID', 'Official Teacher Name','Composite Score',\n",
    "                            'Composite - National Norm Percentile', 'Composite Level', 'Composite - Semester Growth', \n",
    "                                    'Composite - Year Growth']]\n",
    "    if e == 'BOY':\n",
    "        dibels_three = dibels_three[['Student Primary ID', 'Official Teacher Name','Composite Score',\n",
    "                            'Composite - National Norm Percentile', 'Composite Level']]\n",
    "    elif e == 'MOY':\n",
    "            dibels_three = dibels_three[['Student Primary ID', 'Official Teacher Name','Composite Score',\n",
    "                            'Composite - National Norm Percentile', 'Composite Level', 'Composite - Semester Growth']]\n",
    "    else:\n",
    "            dibels_three = dibels_three[['Student Primary ID', 'Official Teacher Name','Composite Score',\n",
    "                            'Composite - National Norm Percentile', 'Composite Level', 'Composite - Semester Growth', \n",
    "                                    'Composite - Year Growth']]"
   ]
  },
  {
   "cell_type": "code",
   "execution_count": null,
   "id": "79b4ee3b",
   "metadata": {},
   "outputs": [],
   "source": [
    "dibels_one"
   ]
  },
  {
   "cell_type": "code",
   "execution_count": null,
   "id": "11bb2d8f",
   "metadata": {},
   "outputs": [],
   "source": [
    "# Renames columns based on time of year, year and a shortened column name\n",
    "if dibels == 2:\n",
    "    if a == 'BOY':\n",
    "        dibels_one = dibels_one.rename(columns={  'Student Primary ID': 'Student ID', 'Official Teacher Name': 'Teacher',\n",
    "                            'Composite Score':a + b + 'Composite Score','Composite - National Norm Percentile' :a + b + '%tile'\n",
    "                             ,'Composite Level': a + b + 'Level'})\n",
    "    elif a == 'MOY':\n",
    "            dibels_one = dibels_one.rename(columns={  'Student Primary ID': 'Student ID', 'Official Teacher Name': 'Teacher',\n",
    "                            'Composite Score':a + b + 'Composite Score','Composite - National Norm Percentile' :a + b + '%tile',\n",
    "                            'Composite Level': a + b + 'Level','Composite - Semester Growth':a + b + 'Semester Growth'})\n",
    "    else:\n",
    "            dibels_one = dibels_one.rename(columns={  'Student Primary ID': 'Student ID', 'Official Teacher Name': 'Teacher',\n",
    "                            'Composite Score':a + b + 'Composite Score','Composite - National Norm Percentile' :a + b + '%tile',\n",
    "                            'Composite Level': a + b + 'Level','Composite - Semester Growth':a + b + 'Semester Growth',\n",
    "                                'Composite - Year Growth': a + b + 'Year Growth'})\n",
    "    if c == 'BOY':\n",
    "        dibels_two = dibels_two.rename(columns={  'Student Primary ID': 'Student ID', 'Official Teacher Name': 'Teacher',\n",
    "                            'Composite Score':c + d + 'Composite Score','Composite - National Norm Percentile' :c + d + '%tile'\n",
    "                                            ,'Composite Level': c + d + 'Level'})\n",
    "    elif c == 'MOY':\n",
    "            dibels_two = dibels_two.rename(columns={  'Student Primary ID': 'Student ID', 'Official Teacher Name': 'Teacher',\n",
    "                            'Composite Score':c + d + 'Composite Score','Composite - National Norm Percentile' :c + d + '%tile',\n",
    "                            'Composite Level': c + d + 'Level','Composite - Semester Growth':c + d + 'Semester Growth'})\n",
    "    else:\n",
    "            dibels_two = dibels_two.rename(columns={  'Student Primary ID': 'Student ID', 'Official Teacher Name': 'Teacher',\n",
    "                            'Composite Score':c + d + 'Composite Score','Composite - National Norm Percentile' :c + d + '%tile',\n",
    "                            'Composite Level': c + d + 'Level','Composite - Semester Growth':c + d + 'Semester Growth',\n",
    "                                'Composite - Year Growth': c + d + 'Year Growth'})\n",
    "if dibels == 3:\n",
    "    if a == 'BOY':\n",
    "        dibels_one = dibels_one.rename(columns={  'Student Primary ID': 'Student ID', 'Official Teacher Name': 'Teacher',\n",
    "                            'Composite Score':a + b + 'Composite Score','Composite - National Norm Percentile' :a + b + '%tile'\n",
    "                             ,'Composite Level': a + b + 'Level'})\n",
    "    elif a == 'MOY':\n",
    "            dibels_one = dibels_one.rename(columns={  'Student Primary ID': 'Student ID', 'Official Teacher Name': 'Teacher',\n",
    "                            'Composite Score':a + b + 'Composite Score','Composite - National Norm Percentile' :a + b + '%tile',\n",
    "                            'Composite Level': a + b + 'Level','Composite - Semester Growth':a + b + 'Semester Growth'})\n",
    "    else:\n",
    "            dibels_one = dibels_one.rename(columns={  'Student Primary ID': 'Student ID', 'Official Teacher Name': 'Teacher',\n",
    "                            'Composite Score':a + b + 'Composite Score','Composite - National Norm Percentile' :a + b + '%tile',\n",
    "                            'Composite Level': a + b + 'Level','Composite - Semester Growth':a + b + 'Semester Growth',\n",
    "                                'Composite - Year Growth': a + b + 'Year Growth'})\n",
    "    if c == 'BOY':\n",
    "        dibels_two = dibels_two.rename(columns={  'Student Primary ID': 'Student ID', 'Official Teacher Name': 'Teacher',\n",
    "                            'Composite Score':c + d + 'Composite Score','Composite - National Norm Percentile' :c + d + '%tile'\n",
    "                                            ,'Composite Level': c + d + 'Level'})\n",
    "    elif c == 'MOY':\n",
    "            dibels_two = dibels_two.rename(columns={  'Student Primary ID': 'Student ID', 'Official Teacher Name': 'Teacher',\n",
    "                            'Composite Score':c + d + 'Composite Score','Composite - National Norm Percentile' :c + d + '%tile',\n",
    "                            'Composite Level': c + d + 'Level','Composite - Semester Growth':c + d + 'Semester Growth'})\n",
    "    else:\n",
    "            dibels_two = dibels_two.rename(columns={  'Student Primary ID': 'Student ID', 'Official Teacher Name': 'Teacher',\n",
    "                            'Composite Score':c + d + 'Composite Score','Composite - National Norm Percentile' :c + d + '%tile',\n",
    "                            'Composite Level': c + d + 'Level','Composite - Semester Growth':c + d + 'Semester Growth',\n",
    "                                'Composite - Year Growth': c + d + 'Year Growth'})\n",
    "    if e == 'BOY':\n",
    "        dibels_three = dibels_three.rename(columns={  'Student Primary ID': 'Student ID', 'Official Teacher Name': 'Teacher',\n",
    "                            'Composite Score':e + f + 'Composite Score','Composite - National Norm Percentile' :e + f + '%tile'\n",
    "                                            ,'Composite Level': e + f + 'Level'})\n",
    "    elif e == 'MOY':\n",
    "            dibels_three = dibels_three.rename(columns={  'Student Primary ID': 'Student ID', 'Official Teacher Name': 'Teacher',\n",
    "                            'Composite Score':e + f + 'Composite Score','Composite - National Norm Percentile' :e + f + '%tile',\n",
    "                            'Composite Level': e + f + 'Level','Composite - Semester Growth':e + f + 'Semester Growth'})\n",
    "    else:\n",
    "            dibels_three = dibels_three.rename(columns={  'Student Primary ID': 'Student ID', 'Official Teacher Name': 'Teacher',\n",
    "                            'Composite Score':e + f + 'Composite Score','Composite - National Norm Percentile' :e + f + '%tile',\n",
    "                            'Composite Level': e + f + 'Level','Composite - Semester Growth':e + f + 'Semester Growth',\n",
    "                                'Composite - Year Growth': e + f + 'Year Growth'})"
   ]
  },
  {
   "cell_type": "code",
   "execution_count": null,
   "id": "23ae40fb",
   "metadata": {},
   "outputs": [],
   "source": [
    "dibels_one"
   ]
  },
  {
   "cell_type": "markdown",
   "id": "0096f7d5",
   "metadata": {},
   "source": [
    "## Merging and Calculations\n",
    "\n",
    "A full outer merger will be done on the student ID and subject so that we can align their progress over time. A new column(s) will be generated that show the change in percentile and score across tests."
   ]
  },
  {
   "cell_type": "code",
   "execution_count": null,
   "id": "51f75cc1",
   "metadata": {},
   "outputs": [],
   "source": [
    "# Completes outer mergers on each of the dataframes to create one dataframe\n",
    "if dibels == 2:\n",
    "    final = pd.merge(dibels_one, dibels_two, how='outer', on=['Student ID', 'Teacher'])\n",
    "elif dibels == 3:\n",
    "    final = pd.merge(dibels_one, dibels_two, how='outer', on=['Student ID', 'Teacher'])\n",
    "    final = pd.merge(final, dibels_three, how='outer', on=['Student ID', 'Teacher'])"
   ]
  },
  {
   "cell_type": "code",
   "execution_count": null,
   "id": "edb75460",
   "metadata": {},
   "outputs": [],
   "source": [
    "final"
   ]
  },
  {
   "cell_type": "code",
   "execution_count": null,
   "id": "b488cab8",
   "metadata": {},
   "outputs": [],
   "source": [
    "# Creates a name out of %tile and Composite Score to search for it\n",
    "if dibels == 2:\n",
    "    x = a + b + '%tile'\n",
    "    y= c + d + '%tile'\n",
    "    w = a + b + 'Composite Score'\n",
    "    v = c + d + 'Composite Score'\n",
    "elif dibels == 3:\n",
    "    x = a + b + '%tile'\n",
    "    y= c + d + '%tile'\n",
    "    z= e + f + '%tile'\n",
    "    w = a + b + 'Composite Score'\n",
    "    v = c + d + 'Composite Score'\n",
    "    u = e + f + 'Composite Score'    "
   ]
  },
  {
   "cell_type": "code",
   "execution_count": null,
   "id": "65386d61",
   "metadata": {},
   "outputs": [],
   "source": [
    "u"
   ]
  },
  {
   "cell_type": "code",
   "execution_count": null,
   "id": "ef56afe0",
   "metadata": {},
   "outputs": [],
   "source": [
    "# Creates a column that shows change in %tile across tests as well as change in score\n",
    "if dibels == 2:\n",
    "    final[x + ' to ' + y + 'Change'] = final[y] - final[x]\n",
    "    final[w + ' to ' + v + 'Change'] = final[v] - final[w]\n",
    "if dibels == 3:\n",
    "    final[x + ' to ' + z + 'Change'] = final[z] - final[x]\n",
    "    final[y + ' to ' + z + 'Change'] = final[z] - final[y]\n",
    "    final[w + ' to ' + u + 'Change'] = final[u] - final[w]\n",
    "    final[v + ' to ' + u + 'Change'] = final[u] - final[v]"
   ]
  },
  {
   "cell_type": "code",
   "execution_count": null,
   "id": "22db0c9d",
   "metadata": {},
   "outputs": [],
   "source": [
    "final"
   ]
  },
  {
   "cell_type": "markdown",
   "id": "10f85717",
   "metadata": {},
   "source": [
    "## Roster\n",
    "\n",
    "An input question will be asked if a roster wants to be added to the dataframe. If yes is answered then you will be prompted to input a file path to the roster. A full outer merge will be done on the data (so no data will be lost), adding the roster to the NWEA data. If no is selected then the code will continue to run to the end and generate a data file with no roster information added."
   ]
  },
  {
   "cell_type": "code",
   "execution_count": null,
   "id": "4b6a982c",
   "metadata": {},
   "outputs": [],
   "source": [
    "roster = input('Do you want roster added (Yes or No)? ') #Answer if you want rosters added or not"
   ]
  },
  {
   "cell_type": "code",
   "execution_count": null,
   "id": "74dbab31",
   "metadata": {},
   "outputs": [],
   "source": [
    "if roster == 'Yes':\n",
    "    students = input('Pathway of roster (get rid of quotations):   ')\n",
    "    students = pd.read_excel(students)"
   ]
  },
  {
   "cell_type": "code",
   "execution_count": null,
   "id": "66388ddb",
   "metadata": {},
   "outputs": [],
   "source": [
    "if roster == 'Yes':\n",
    "    final = pd.merge(students, final, how='outer', left_on='Student ID', right_on='StudentID')"
   ]
  },
  {
   "cell_type": "code",
   "execution_count": null,
   "id": "ba5ef0cb",
   "metadata": {},
   "outputs": [],
   "source": [
    "if roster == 'Yes':\n",
    "    final = final.rename(columns={  'Student ID':'School Stu_ID', 'StudentID':'NWEA Stu_ID'})"
   ]
  },
  {
   "cell_type": "code",
   "execution_count": null,
   "id": "16e074b6",
   "metadata": {},
   "outputs": [],
   "source": [
    "final"
   ]
  },
  {
   "cell_type": "code",
   "execution_count": null,
   "id": "6b0fa513",
   "metadata": {},
   "outputs": [],
   "source": [
    "import base64\n",
    "from IPython.display import HTML\n",
    "\n",
    "def create_download_link( df, title = \"NWEA Data\", filename = \"NWEA Data\"):\n",
    "    csv = df.to_csv(index=False)\n",
    "    b64 = base64.b64encode(csv.encode())\n",
    "    payload = b64.decode()\n",
    "    html = '<a download=\"{filename}\" href=\"data:text/csv;base64,{payload}\" target=\"_blank\">{title}</a>'\n",
    "    html = html.format(payload=payload,title=title,filename=filename)\n",
    "    return HTML(html)\n",
    "\n",
    "create_download_link(final)"
   ]
  }
 ],
 "metadata": {
  "kernelspec": {
   "display_name": "Python 3 (ipykernel)",
   "language": "python",
   "name": "python3"
  },
  "language_info": {
   "codemirror_mode": {
    "name": "ipython",
    "version": 3
   },
   "file_extension": ".py",
   "mimetype": "text/x-python",
   "name": "python",
   "nbconvert_exporter": "python",
   "pygments_lexer": "ipython3",
   "version": "3.9.7"
  }
 },
 "nbformat": 4,
 "nbformat_minor": 5
}
