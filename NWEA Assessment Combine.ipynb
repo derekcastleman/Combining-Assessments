{
 "cells": [
  {
   "cell_type": "markdown",
   "id": "9e6643b5",
   "metadata": {},
   "source": [
    "# NWEA Assessment Combine\n",
    "\n",
    "The purpose of this Jupyter notebook is to combine the data from multiple NWEA assessments on the Student ID. This should allow for easier analysis of any of the data from the NWEA assessments across up to three tests. A calculation is made on change in percentile for each student across the tests for easier analysis of this as well."
   ]
  },
  {
   "cell_type": "code",
   "execution_count": null,
   "id": "935c643a",
   "metadata": {},
   "outputs": [],
   "source": [
    "import numpy as np\n",
    "import pandas as pd"
   ]
  },
  {
   "cell_type": "markdown",
   "id": "221306a9",
   "metadata": {},
   "source": [
    "## Data Input\n",
    "\n",
    "The number of NWEA assessments (up to three) are asked for and then the pathway to each file is asked to be input (with no quotation marks around them). Then each file will receive its own name by being asked to input a time of year (Fall, Winter, Spring - case sensitive). Each file will be asked to be given a 2 digit year."
   ]
  },
  {
   "cell_type": "code",
   "execution_count": null,
   "id": "24d044c2",
   "metadata": {},
   "outputs": [],
   "source": [
    "nwea = input('Number of NWEAs = ') #Input of number of NWEAs\n",
    "nwea = int(nwea) # Converting the input into an integer"
   ]
  },
  {
   "cell_type": "code",
   "execution_count": null,
   "id": "01295bb4",
   "metadata": {},
   "outputs": [],
   "source": [
    "# Based on number of NWEAs there is an input for each pathway but there can be no quotations around it.\n",
    "if nwea == 2:\n",
    "    nwea_one = input('Pathway of NWEA One (get rid of quotations):   ')\n",
    "    nwea_one = pd.read_csv(nwea_one)\n",
    "    nwea_two = input('Pathway of NWEA Two (get rid of quotations):   ')\n",
    "    nwea_two = pd.read_csv(nwea_two)\n",
    "elif nwea == 3:\n",
    "    nwea_one = input('Pathway of NWEA One (get rid of quotations):   ')\n",
    "    nwea_one = pd.read_csv(nwea_one)\n",
    "    nwea_two = input('Pathway of NWEA Two (get rid of quotations):   ')\n",
    "    nwea_two = pd.read_csv(nwea_two)\n",
    "    nwea_three = input('Pathway of NWEA Three (get rid of quotations):   ')\n",
    "    nwea_three = pd.read_csv(nwea_three)    "
   ]
  },
  {
   "cell_type": "code",
   "execution_count": null,
   "id": "6be30515",
   "metadata": {},
   "outputs": [],
   "source": [
    "nwea_one"
   ]
  },
  {
   "cell_type": "code",
   "execution_count": null,
   "id": "7e08331f",
   "metadata": {},
   "outputs": [],
   "source": [
    "# Any of the duplicate non growth measure tests are taken out of the data\n",
    "if nwea == 2:\n",
    "    nwea_one = nwea_one[nwea_one['GrowthMeasureYN'] != False ]\n",
    "    nwea_two = nwea_two[nwea_two['GrowthMeasureYN'] != False ]\n",
    "elif nwea == 3:\n",
    "    nwea_one = nwea_one[nwea_one['GrowthMeasureYN'] !=False]\n",
    "    nwea_two = nwea_two[nwea_two['GrowthMeasureYN'] != False ]\n",
    "    nwea_three = nwea_three[nwea_three['GrowthMeasureYN'] != False]"
   ]
  },
  {
   "cell_type": "code",
   "execution_count": null,
   "id": "e88d81f0",
   "metadata": {},
   "outputs": [],
   "source": [
    "nwea_one"
   ]
  },
  {
   "cell_type": "code",
   "execution_count": null,
   "id": "d4f0fc21",
   "metadata": {},
   "outputs": [],
   "source": [
    "nwea_one.info()"
   ]
  },
  {
   "cell_type": "code",
   "execution_count": null,
   "id": "a0c32b4b",
   "metadata": {},
   "outputs": [],
   "source": [
    "# Each file is named by a time of year and a two digit year\n",
    "if nwea == 2:\n",
    "    a = input('What test is test one (Fall, Winter, Spring - case sensitive)?:   ')\n",
    "    b = input('What year is test one (23, 24, 25)?:   ')\n",
    "    c = input('What test is test two (Fall, Winter, Spring - case sensitive)?:   ')\n",
    "    d = input('What year is test two (23, 24, 25)?:   ')    \n",
    "elif nwea == 3:\n",
    "    a = input('What test is test one (Fall, Winter, Spring - case sensitive)?:   ')\n",
    "    b = input('What year is test one (23, 24, 25)?:   ')\n",
    "    c = input('What test is test two (Fall, Winter, Spring - case sensitive)?:   ')\n",
    "    d = input('What year is test two (23, 24, 25)?:   ')        \n",
    "    e = input('What test is test three (Fall, Winter, Spring - case sensitive)?:   ')\n",
    "    f = input('What year is test three (23, 24, 25)?:   ')      "
   ]
  },
  {
   "cell_type": "markdown",
   "id": "f28b3827",
   "metadata": {},
   "source": [
    "## Column Selection\n",
    "\n",
    "The columns of interest will be selected based on what time of year was input from the previous part. The columns will then be rename based on the time of year, year and a shortened version of the column name"
   ]
  },
  {
   "cell_type": "code",
   "execution_count": null,
   "id": "c00b9850",
   "metadata": {},
   "outputs": [],
   "source": [
    "# The columns of interest are selected based on the time of year that was input previously\n",
    "if nwea == 2:\n",
    "    if a == 'Fall':\n",
    "        nwea_one = nwea_one[['StudentID', 'Subject', 'TestRITScore', 'TestPercentile', 'AchievementQuintile',\n",
    "                            'RapidGuessingPercentage', 'FallToFallMetProjectedGrowth', 'FallToFallConditionalGrowthIndex',\n",
    "                           'ProjectedProficiencyLevel2']]\n",
    "    elif a == 'Winter':\n",
    "            nwea_one = nwea_one[['StudentID', 'Subject', 'TestRITScore', 'TestPercentile', 'AchievementQuintile',\n",
    "                        'RapidGuessingPercentage', 'WinterToWinterMetProjectedGrowth', 'WinterToWinterConditionalGrowthIndex',\n",
    "                        'FallToWinterMetProjectedGrowth', 'FallToWinterConditionalGrowthIndex',\n",
    "                        'ProjectedProficiencyLevel2']]\n",
    "    else:\n",
    "            nwea_one = nwea_one[['StudentID', 'Subject', 'TestRITScore', 'TestPercentile', 'AchievementQuintile',\n",
    "                        'RapidGuessingPercentage', 'SpringToSpringMetProjectedGrowth', 'SpringToSpringConditionalGrowthIndex',\n",
    "                        'WinterToSpringMetProjectedGrowth', 'WinterToSpringConditionalGrowthIndex',\n",
    "                        'FallToSpringMetProjectedGrowth', 'FallToSpringConditionalGrowthIndex',\n",
    "                        'ProjectedProficiencyLevel2']]\n",
    "    if c == 'Fall':\n",
    "        nwea_two = nwea_two[['StudentID', 'Subject', 'TestRITScore', 'TestPercentile', 'AchievementQuintile',\n",
    "                            'RapidGuessingPercentage', 'FallToFallMetProjectedGrowth', 'FallToFallConditionalGrowthIndex',\n",
    "                           'ProjectedProficiencyLevel2']]\n",
    "    elif c == 'Winter':\n",
    "            nwea_two = nwea_two[['StudentID', 'Subject', 'TestRITScore', 'TestPercentile', 'AchievementQuintile',\n",
    "                        'RapidGuessingPercentage', 'WinterToWinterMetProjectedGrowth', 'WinterToWinterConditionalGrowthIndex',\n",
    "                        'FallToWinterMetProjectedGrowth', 'FallToWinterConditionalGrowthIndex',\n",
    "                        'ProjectedProficiencyLevel2']]\n",
    "    else:\n",
    "            nwea_two = nwea_two[['StudentID', 'Subject', 'TestRITScore', 'TestPercentile', 'AchievementQuintile',\n",
    "                        'RapidGuessingPercentage', 'SpringToSpringMetProjectedGrowth', 'SpringToSpringConditionalGrowthIndex',\n",
    "                        'WinterToSpringMetProjectedGrowth', 'WinterToSpringConditionalGrowthIndex',\n",
    "                        'FallToSpringMetProjectedGrowth', 'FallToSpringConditionalGrowthIndex',\n",
    "                        'ProjectedProficiencyLevel2']]\n",
    "if nwea == 3:\n",
    "    if a == 'Fall':\n",
    "        nwea_one = nwea_one[['StudentID', 'Subject', 'TestRITScore', 'TestPercentile', 'AchievementQuintile',\n",
    "                            'RapidGuessingPercentage', 'FallToFallMetProjectedGrowth', 'FallToFallConditionalGrowthIndex',\n",
    "                           'ProjectedProficiencyLevel2']]\n",
    "    elif a == 'Winter':\n",
    "            nwea_one = nwea_one[['StudentID', 'Subject', 'TestRITScore', 'TestPercentile', 'AchievementQuintile',\n",
    "                        'RapidGuessingPercentage', 'WinterToWinterMetProjectedGrowth', 'WinterToWinterConditionalGrowthIndex',\n",
    "                        'FallToWinterMetProjectedGrowth', 'FallToWinterConditionalGrowthIndex',\n",
    "                        'ProjectedProficiencyLevel2']]\n",
    "    else:\n",
    "            nwea_one = nwea_one[['StudentID', 'Subject', 'TestRITScore', 'TestPercentile', 'AchievementQuintile',\n",
    "                        'RapidGuessingPercentage', 'SpringToSpringMetProjectedGrowth', 'SpringToSpringConditionalGrowthIndex',\n",
    "                        'WinterToSpringMetProjectedGrowth', 'WinterToSpringConditionalGrowthIndex',\n",
    "                        'FallToSpringMetProjectedGrowth', 'FallToSpringConditionalGrowthIndex',\n",
    "                        'ProjectedProficiencyLevel2']]\n",
    "    if c == 'Fall':\n",
    "        nwea_two = nwea_two[['StudentID', 'Subject', 'TestRITScore', 'TestPercentile', 'AchievementQuintile',\n",
    "                            'RapidGuessingPercentage', 'FallToFallMetProjectedGrowth', 'FallToFallConditionalGrowthIndex',\n",
    "                           'ProjectedProficiencyLevel2']]\n",
    "    elif c == 'Winter':\n",
    "            nwea_two = nwea_two[['StudentID', 'Subject', 'TestRITScore', 'TestPercentile', 'AchievementQuintile',\n",
    "                        'RapidGuessingPercentage', 'WinterToWinterMetProjectedGrowth', 'WinterToWinterConditionalGrowthIndex',\n",
    "                        'FallToWinterMetProjectedGrowth', 'FallToWinterConditionalGrowthIndex',\n",
    "                        'ProjectedProficiencyLevel2']]\n",
    "    else:\n",
    "            nwea_two = nwea_two[['StudentID', 'Subject', 'TestRITScore', 'TestPercentile', 'AchievementQuintile',\n",
    "                        'RapidGuessingPercentage', 'SpringToSpringMetProjectedGrowth', 'SpringToSpringConditionalGrowthIndex',\n",
    "                        'WinterToSpringMetProjectedGrowth', 'WinterToSpringConditionalGrowthIndex',\n",
    "                        'FallToSpringMetProjectedGrowth', 'FallToSpringConditionalGrowthIndex',\n",
    "                        'ProjectedProficiencyLevel2']]\n",
    "    if e == 'Fall':\n",
    "        nwea_three = nwea_three[['StudentID', 'Subject', 'TestRITScore', 'TestPercentile', 'AchievementQuintile',\n",
    "                            'RapidGuessingPercentage', 'FallToFallMetProjectedGrowth', 'FallToFallConditionalGrowthIndex',\n",
    "                           'ProjectedProficiencyLevel2']]\n",
    "    elif e == 'Winter':\n",
    "            nwea_three = nwea_three[['StudentID', 'Subject', 'TestRITScore', 'TestPercentile', 'AchievementQuintile',\n",
    "                        'RapidGuessingPercentage', 'WinterToWinterMetProjectedGrowth', 'WinterToWinterConditionalGrowthIndex',\n",
    "                        'FallToWinterMetProjectedGrowth', 'FallToWinterConditionalGrowthIndex',\n",
    "                        'ProjectedProficiencyLevel2']]\n",
    "    else:\n",
    "            nwea_three = nwea_three[['StudentID', 'Subject', 'TestRITScore', 'TestPercentile', 'AchievementQuintile',\n",
    "                        'RapidGuessingPercentage', 'SpringToSpringMetProjectedGrowth', 'SpringToSpringConditionalGrowthIndex',\n",
    "                        'WinterToSpringMetProjectedGrowth', 'WinterToSpringConditionalGrowthIndex',\n",
    "                        'FallToSpringMetProjectedGrowth', 'FallToSpringConditionalGrowthIndex',\n",
    "                        'ProjectedProficiencyLevel2']]"
   ]
  },
  {
   "cell_type": "code",
   "execution_count": null,
   "id": "79b4ee3b",
   "metadata": {},
   "outputs": [],
   "source": [
    "nwea_one"
   ]
  },
  {
   "cell_type": "code",
   "execution_count": null,
   "id": "11bb2d8f",
   "metadata": {},
   "outputs": [],
   "source": [
    "# Renames columns based on time of year, year and a shortened column name\n",
    "if nwea == 2:\n",
    "    if a == 'Fall':\n",
    "        nwea_one = nwea_one.rename(columns={  'TestRITScore':a + b + 'RITScore', 'TestPercentile':a + b + '%tile',\n",
    "                            'AchievementQuintile':a + b + 'Level','RapidGuessingPercentage' :a + b + 'Guessing',\n",
    "                            'FallToFallMetProjectedGrowth':a + b + 'FtoF Growth', 'FallToFallConditionalGrowthIndex':a + b + 'FtoF GI',\n",
    "                           'ProjectedProficiencyLevel2': a + b + 'SBAC'})\n",
    "    elif a == 'Winter':\n",
    "            nwea_one = nwea_one.rename(columns={  'TestRITScore':a + b + 'RITScore', 'TestPercentile':a + b + '%tile',\n",
    "                            'AchievementQuintile':a + b + 'Level',\n",
    "                        'RapidGuessingPercentage': a + b + 'Guessing',\n",
    "                        'WinterToWinterMetProjectedGrowth':a + b + 'WtoW Growth', 'WinterToWinterConditionalGrowthIndex': a + b + 'WtoW GI',\n",
    "                        'FallToWinterMetProjectedGrowth':a + b +'FtoW Growth', 'FallToWinterMetProjectedGrowth':a + b + 'FtoW GI',\n",
    "                        'ProjectedProficiencyLevel2': a + b +'SBAC'})\n",
    "    else:\n",
    "            nwea_one = nwea_one.rename(columns={  'TestRITScore':a + b + 'RITScore', 'TestPercentile':a + b + '%tile',\n",
    "                        'AchievementQuintile':a + b + 'Level',\n",
    "                        'RapidGuessingPercentage': a + b + 'Guessing',\n",
    "                        'SpringToSpringMetProjectedGrowth':a + b + 'StoS Growth', 'SpringToSpringConditionalGrowthIndex':a + b + 'StoS GI',\n",
    "                        'WinterToSpringMetProjectedGrowth':a + b + 'WtoS Growth', 'WinterToSpringConditionalGrowthIndex':a + b + 'WtoS GI',\n",
    "                        'FallToSpringMetProjectedGrowth':a + b + 'FtoS Growth', 'FallToSpringConditionalGrowthIndex':a + b + 'FtoS GI',\n",
    "                        'ProjectedProficiencyLevel2': a + b + 'SBAC'})\n",
    "    if c == 'Fall':\n",
    "        nwea_two = nwea_two.rename(columns={  'TestRITScore':c + d + 'RITScore', 'TestPercentile':c + d + '%tile',\n",
    "                            'AchievementQuintile':c + d + 'Level','RapidGuessingPercentage' :c + d + 'Guessing',\n",
    "                            'FallToFallMetProjectedGrowth':c + d + 'FtoF Growth', 'FallToFallConditionalGrowthIndex':c + d + 'FtoF GI',\n",
    "                           'ProjectedProficiencyLevel2': c + d + 'SBAC'})\n",
    "    elif c == 'Winter':\n",
    "            nwea_two = nwea_two.rename(columns={  'TestRITScore':c + d + 'RITScore', 'TestPercentile':c + d + '%tile',\n",
    "                            'AchievementQuintile':c + d + 'Level',\n",
    "                        'RapidGuessingPercentage': c + d + 'Guessing',\n",
    "                        'WinterToWinterMetProjectedGrowth':c + d + 'WtoW Growth', 'WinterToWinterConditionalGrowthIndex': c + d + 'WtoW GI',\n",
    "                        'FallToWinterMetProjectedGrowth':c + d + 'FtoW Growth', 'FallToWinterMetProjectedGrowth':c + d + 'FtoW GI',\n",
    "                        'ProjectedProficiencyLevel2': c + d + 'SBAC'})\n",
    "    else:\n",
    "            nwea_two = nwea_two.rename(columns={  'TestRITScore':c + d + 'RITScore', 'TestPercentile':c + d + '%tile',\n",
    "                        'AchievementQuintile':c + d +'Level',\n",
    "                        'RapidGuessingPercentage': c + d + 'Guessing',\n",
    "                        'SpringToSpringMetProjectedGrowth':c + d + 'StoS Growth', 'SpringToSpringConditionalGrowthIndex':c + d + 'StoS GI',\n",
    "                        'WinterToSpringMetProjectedGrowth':c + d +'WtoS Growth', 'WinterToSpringConditionalGrowthIndex':c + d + 'WtoS GI',\n",
    "                        'FallToSpringMetProjectedGrowth':c + d + 'FtoS Growth', 'FallToSpringConditionalGrowthIndex':c + d + 'FtoS GI',\n",
    "                        'ProjectedProficiencyLevel2': c + d + 'SBAC'})\n",
    "if nwea == 3:\n",
    "    if a == 'Fall':\n",
    "        nwea_one = nwea_one.rename(columns={  'TestRITScore':a + b + 'RITScore', 'TestPercentile':a + b + '%tile',\n",
    "                            'AchievementQuintile':a + b + 'Level','RapidGuessingPercentage' :a + b + 'Guessing',\n",
    "                            'FallToFallMetProjectedGrowth':a + b + 'FtoF Growth', 'FallToFallConditionalGrowthIndex':a + b + 'FtoF GI',\n",
    "                           'ProjectedProficiencyLevel2': a + b + 'SBAC'})\n",
    "    elif a == 'Winter':\n",
    "            nwea_one = nwea_one.rename(columns={  'TestRITScore':a + b + 'RITScore', 'TestPercentile':a + b + '%tile',\n",
    "                            'AchievementQuintile':a + b + 'Level',\n",
    "                        'RapidGuessingPercentage': a + b + 'Guessing',\n",
    "                        'WinterToWinterMetProjectedGrowth':a + b + 'WtoW Growth', 'WinterToWinterConditionalGrowthIndex': a + b + 'WtoW GI',\n",
    "                        'FallToWinterMetProjectedGrowth':a + b +'FtoW Growth', 'FallToWinterMetProjectedGrowth':a + b + 'FtoW GI',\n",
    "                        'ProjectedProficiencyLevel2': a + b +'SBAC'})\n",
    "    else:\n",
    "            nwea_one = nwea_one.rename(columns={  'TestRITScore':a + b + 'RITScore', 'TestPercentile':a + b + '%tile',\n",
    "                        'AchievementQuintile':a + b + 'Level',\n",
    "                        'RapidGuessingPercentage': a + b + 'Guessing',\n",
    "                        'SpringToSpringMetProjectedGrowth':a + b + 'StoS Growth', 'SpringToSpringConditionalGrowthIndex':a + b + 'StoS GI',\n",
    "                        'WinterToSpringMetProjectedGrowth':a + b + 'WtoS Growth', 'WinterToSpringConditionalGrowthIndex':a + b + 'WtoS GI',\n",
    "                        'FallToSpringMetProjectedGrowth':a + b + 'FtoS Growth', 'FallToSpringConditionalGrowthIndex':a + b + 'FtoS GI',\n",
    "                        'ProjectedProficiencyLevel2': a + b + 'SBAC'})\n",
    "    if c == 'Fall':\n",
    "        nwea_two = nwea_two.rename(columns={  'TestRITScore':c + d + 'RITScore', 'TestPercentile':c + d + '%tile',\n",
    "                            'AchievementQuintile':c + d + 'Level','RapidGuessingPercentage' :c + d + 'Guessing',\n",
    "                            'FallToFallMetProjectedGrowth':c + d + 'FtoF Growth', 'FallToFallConditionalGrowthIndex':c + d + 'FtoF GI',\n",
    "                           'ProjectedProficiencyLevel2': c + d + 'SBAC'})\n",
    "    elif c == 'Winter':\n",
    "            nwea_two = nwea_two.rename(columns={  'TestRITScore':c + d + 'RITScore', 'TestPercentile':c + d + '%tile',\n",
    "                            'AchievementQuintile':c + d + 'Level',\n",
    "                        'RapidGuessingPercentage': c + d + 'Guessing',\n",
    "                        'WinterToWinterMetProjectedGrowth':c + d + 'WtoW Growth', 'WinterToWinterConditionalGrowthIndex': c + d + 'WtoW GI',\n",
    "                        'FallToWinterMetProjectedGrowth':c + d + 'FtoW Growth', 'FallToWinterMetProjectedGrowth':c + d + 'FtoW GI',\n",
    "                        'ProjectedProficiencyLevel2': c + d + 'SBAC'})\n",
    "    else:\n",
    "            nwea_two = nwea_two.rename(columns={  'TestRITScore':c + d + 'RITScore', 'TestPercentile':c + d + '%tile',\n",
    "                        'AchievementQuintile':c + d +'Level',\n",
    "                        'RapidGuessingPercentage': c + d + 'Guessing',\n",
    "                        'SpringToSpringMetProjectedGrowth':c + d + 'StoS Growth', 'SpringToSpringConditionalGrowthIndex':c + d + 'StoS GI',\n",
    "                        'WinterToSpringMetProjectedGrowth':c + d +'WtoS Growth', 'WinterToSpringConditionalGrowthIndex':c + d + 'WtoS GI',\n",
    "                        'FallToSpringMetProjectedGrowth':c + d + 'FtoS Growth', 'FallToSpringConditionalGrowthIndex':c + d + 'FtoS GI',\n",
    "                        'ProjectedProficiencyLevel2': c + d + 'SBAC'})\n",
    "    if e == 'Fall':\n",
    "        nwea_three = nwea_three.rename(columns={  'TestRITScore':e + f + 'RITScore', 'TestPercentile':e + f + '%tile',\n",
    "                            'AchievementQuintile':e + f + 'Level','RapidGuessingPercentage' :e + f + 'Guessing',\n",
    "                            'FallToFallMetProjectedGrowth':e + f + 'FtoF Growth', 'FallToFallConditionalGrowthIndex':e + f + 'FtoF GI',\n",
    "                           'ProjectedProficiencyLevel2': e + f + 'SBAC'})\n",
    "    elif e == 'Winter':\n",
    "            nwea_three = nwea_three.rename(columns={  'TestRITScore':e + f + 'RITScore', 'TestPercentile':e + f + '%tile',\n",
    "                            'AchievementQuintile':e + f + 'Level',\n",
    "                        'RapidGuessingPercentage': e + f + 'Guessing',\n",
    "                        'WinterToWinterMetProjectedGrowth':e + f + 'WtoW Growth', 'WinterToWinterConditionalGrowthIndex': e + f + 'WtoW GI',\n",
    "                        'FallToWinterMetProjectedGrowth':e + f + 'FtoW Growth', 'FallToWinterMetProjectedGrowth':e + f + 'FtoW GI',\n",
    "                        'ProjectedProficiencyLevel2': e + f + 'SBAC'})\n",
    "    else:\n",
    "            nwea_three = nwea_three.rename(columns={  'TestRITScore':e + f + 'RITScore', 'TestPercentile':e + f + '%tile',\n",
    "                        'AchievementQuintile':e + f + 'Level',\n",
    "                        'RapidGuessingPercentage': e + f + 'Guessing',\n",
    "                        'SpringToSpringMetProjectedGrowth':e + f + 'StoS Growth', 'SpringToSpringConditionalGrowthIndex':e + f + 'StoS GI',\n",
    "                        'WinterToSpringMetProjectedGrowth':e + f + 'WtoS Growth', 'WinterToSpringConditionalGrowthIndex':e + f + 'WtoS GI',\n",
    "                        'FallToSpringMetProjectedGrowth':e + f + 'FtoS Growth', 'FallToSpringConditionalGrowthIndex':e + f + 'FtoS GI',\n",
    "                        'ProjectedProficiencyLevel2': e + f + 'SBAC'})  "
   ]
  },
  {
   "cell_type": "code",
   "execution_count": null,
   "id": "23ae40fb",
   "metadata": {},
   "outputs": [],
   "source": [
    "nwea_two"
   ]
  },
  {
   "cell_type": "markdown",
   "id": "0096f7d5",
   "metadata": {},
   "source": [
    "## Merging and Calculations\n",
    "\n",
    "A full outer merger will be done on the student ID and subject so that we can align their progress over time. A new column(s) will be generated that show the change in percentile across tests."
   ]
  },
  {
   "cell_type": "code",
   "execution_count": null,
   "id": "51f75cc1",
   "metadata": {},
   "outputs": [],
   "source": [
    "# Completes outer mergers on each of the dataframes to create one dataframe\n",
    "if nwea == 2:\n",
    "    final = pd.merge(nwea_one, nwea_two, how='outer', on=['StudentID', 'Subject'])\n",
    "elif nwea == 3:\n",
    "    final = pd.merge(nwea_one, nwea_two, how='outer', on=['StudentID', 'Subject'])\n",
    "    final = pd.merge(final, nwea_three, how='outer', on=['StudentID', 'Subject'])"
   ]
  },
  {
   "cell_type": "code",
   "execution_count": null,
   "id": "edb75460",
   "metadata": {},
   "outputs": [],
   "source": [
    "final"
   ]
  },
  {
   "cell_type": "code",
   "execution_count": null,
   "id": "b488cab8",
   "metadata": {},
   "outputs": [],
   "source": [
    "# Creates a name out of %tile to search for it\n",
    "if nwea == 2:\n",
    "    x = a + b + '%tile'\n",
    "    y= c + d + '%tile'\n",
    "elif nwea == 3:\n",
    "    x = a + b + '%tile'\n",
    "    y= c + d + '%tile'\n",
    "    z= e + f + '%tile'"
   ]
  },
  {
   "cell_type": "code",
   "execution_count": null,
   "id": "65386d61",
   "metadata": {},
   "outputs": [],
   "source": [
    "x"
   ]
  },
  {
   "cell_type": "code",
   "execution_count": null,
   "id": "ef56afe0",
   "metadata": {},
   "outputs": [],
   "source": [
    "# Creates a column that shows change in %tile across tests\n",
    "if nwea == 2:\n",
    "    final[x + ' to ' + y + 'Change'] = final[y] - final[x]\n",
    "if nwea == 3:\n",
    "    final[x + ' to ' + z + 'Change'] = final[z] - final[x]\n",
    "    final[y + ' to ' + z + 'Change'] = final[z] - final[y]"
   ]
  },
  {
   "cell_type": "code",
   "execution_count": null,
   "id": "22db0c9d",
   "metadata": {},
   "outputs": [],
   "source": [
    "final"
   ]
  },
  {
   "cell_type": "markdown",
   "id": "10f85717",
   "metadata": {},
   "source": [
    "## Roster\n",
    "\n",
    "An input question will be asked if a roster wants to be added to the dataframe. If yes is answered then you will be prompted to input a file path to the roster. A full outer merge will be done on the data (so no data will be lost), adding the roster to the NWEA data. If no is selected then the code will continue to run to the end and generate a data file with no roster information added."
   ]
  },
  {
   "cell_type": "code",
   "execution_count": null,
   "id": "4b6a982c",
   "metadata": {},
   "outputs": [],
   "source": [
    "roster = input('Do you want roster added (Yes or No)? ') #Answer if you want rosters added or not"
   ]
  },
  {
   "cell_type": "code",
   "execution_count": null,
   "id": "74dbab31",
   "metadata": {},
   "outputs": [],
   "source": [
    "if roster == 'Yes':\n",
    "    students = input('Pathway of roster (get rid of quotations):   ')\n",
    "    students = pd.read_excel(students)"
   ]
  },
  {
   "cell_type": "code",
   "execution_count": null,
   "id": "66388ddb",
   "metadata": {},
   "outputs": [],
   "source": [
    "if roster == 'Yes':\n",
    "    final = pd.merge(students, final, how='outer', left_on='Student ID', right_on='StudentID')"
   ]
  },
  {
   "cell_type": "code",
   "execution_count": null,
   "id": "ba5ef0cb",
   "metadata": {},
   "outputs": [],
   "source": [
    "if roster == 'Yes':\n",
    "    final = final.rename(columns={  'Student ID':'School Stu_ID', 'StudentID':'NWEA Stu_ID'})"
   ]
  },
  {
   "cell_type": "code",
   "execution_count": null,
   "id": "16e074b6",
   "metadata": {},
   "outputs": [],
   "source": [
    "final"
   ]
  },
  {
   "cell_type": "code",
   "execution_count": null,
   "id": "6b0fa513",
   "metadata": {},
   "outputs": [],
   "source": [
    "import base64\n",
    "from IPython.display import HTML\n",
    "\n",
    "def create_download_link( df, title = \"NWEA Data\", filename = \"NWEA Data\"):\n",
    "    csv = df.to_csv(index=False)\n",
    "    b64 = base64.b64encode(csv.encode())\n",
    "    payload = b64.decode()\n",
    "    html = '<a download=\"{filename}\" href=\"data:text/csv;base64,{payload}\" target=\"_blank\">{title}</a>'\n",
    "    html = html.format(payload=payload,title=title,filename=filename)\n",
    "    return HTML(html)\n",
    "\n",
    "create_download_link(final)"
   ]
  }
 ],
 "metadata": {
  "kernelspec": {
   "display_name": "Python 3 (ipykernel)",
   "language": "python",
   "name": "python3"
  },
  "language_info": {
   "codemirror_mode": {
    "name": "ipython",
    "version": 3
   },
   "file_extension": ".py",
   "mimetype": "text/x-python",
   "name": "python",
   "nbconvert_exporter": "python",
   "pygments_lexer": "ipython3",
   "version": "3.9.7"
  }
 },
 "nbformat": 4,
 "nbformat_minor": 5
}
